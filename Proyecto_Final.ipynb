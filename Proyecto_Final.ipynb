{
  "cells": [
    {
      "cell_type": "code",
      "execution_count": 141,
      "id": "41891f7d-e90b-40fe-82b1-a9bf1769045b",
      "metadata": {
        "colab": {
          "base_uri": "https://localhost:8080/",
          "height": 360
        },
        "id": "41891f7d-e90b-40fe-82b1-a9bf1769045b",
        "outputId": "a5ccabf4-4dcd-4154-cad2-8ac0d354fd0d"
      },
      "outputs": [
        {
          "output_type": "execute_result",
          "data": {
            "text/plain": [
              "  country location_name          region  latitude  longitude      timezone  \\\n",
              "0   India    Ashoknagar  Madhya Pradesh     24.57      77.72  Asia/Kolkata   \n",
              "1   India        Raisen  Madhya Pradesh     23.33      77.80  Asia/Kolkata   \n",
              "2   India    Chhindwara  Madhya Pradesh     22.07      78.93  Asia/Kolkata   \n",
              "3   India         Betul  Madhya Pradesh     21.86      77.93  Asia/Kolkata   \n",
              "4   India   Hoshangabad  Madhya Pradesh     22.75      77.72  Asia/Kolkata   \n",
              "\n",
              "   last_updated_epoch      last_updated  temperature_celsius  \\\n",
              "0          1693286100  2023-08-29 10:45                 27.5   \n",
              "1          1693286100  2023-08-29 10:45                 27.5   \n",
              "2          1693286100  2023-08-29 10:45                 26.3   \n",
              "3          1693286100  2023-08-29 10:45                 25.6   \n",
              "4          1693286100  2023-08-29 10:45                 27.2   \n",
              "\n",
              "   temperature_fahrenheit  ... air_quality_PM2.5  air_quality_PM10  \\\n",
              "0                    81.5  ...              12.6              18.5   \n",
              "1                    81.5  ...              10.7              14.2   \n",
              "2                    79.3  ...              16.8              20.7   \n",
              "3                    78.1  ...               4.9               6.6   \n",
              "4                    81.0  ...              11.4              14.8   \n",
              "\n",
              "   air_quality_us-epa-index  air_quality_gb-defra-index   sunrise    sunset  \\\n",
              "0                         1                           2  05:59 AM  06:41 PM   \n",
              "1                         1                           1  06:00 AM  06:40 PM   \n",
              "2                         2                           2  05:56 AM  06:34 PM   \n",
              "3                         1                           1  06:00 AM  06:38 PM   \n",
              "4                         1                           1  06:01 AM  06:39 PM   \n",
              "\n",
              "   moonrise   moonset      moon_phase  moon_illumination  \n",
              "0  05:42 PM  03:38 AM  Waxing Gibbous                 93  \n",
              "1  05:39 PM  03:41 AM  Waxing Gibbous                 93  \n",
              "2  05:32 PM  03:39 AM  Waxing Gibbous                 93  \n",
              "3  05:36 PM  03:43 AM  Waxing Gibbous                 93  \n",
              "4  05:38 PM  03:42 AM  Waxing Gibbous                 93  \n",
              "\n",
              "[5 rows x 42 columns]"
            ],
            "text/html": [
              "\n",
              "  <div id=\"df-03df7a59-b6a5-4a79-9095-abb6baf2e93d\" class=\"colab-df-container\">\n",
              "    <div>\n",
              "<style scoped>\n",
              "    .dataframe tbody tr th:only-of-type {\n",
              "        vertical-align: middle;\n",
              "    }\n",
              "\n",
              "    .dataframe tbody tr th {\n",
              "        vertical-align: top;\n",
              "    }\n",
              "\n",
              "    .dataframe thead th {\n",
              "        text-align: right;\n",
              "    }\n",
              "</style>\n",
              "<table border=\"1\" class=\"dataframe\">\n",
              "  <thead>\n",
              "    <tr style=\"text-align: right;\">\n",
              "      <th></th>\n",
              "      <th>country</th>\n",
              "      <th>location_name</th>\n",
              "      <th>region</th>\n",
              "      <th>latitude</th>\n",
              "      <th>longitude</th>\n",
              "      <th>timezone</th>\n",
              "      <th>last_updated_epoch</th>\n",
              "      <th>last_updated</th>\n",
              "      <th>temperature_celsius</th>\n",
              "      <th>temperature_fahrenheit</th>\n",
              "      <th>...</th>\n",
              "      <th>air_quality_PM2.5</th>\n",
              "      <th>air_quality_PM10</th>\n",
              "      <th>air_quality_us-epa-index</th>\n",
              "      <th>air_quality_gb-defra-index</th>\n",
              "      <th>sunrise</th>\n",
              "      <th>sunset</th>\n",
              "      <th>moonrise</th>\n",
              "      <th>moonset</th>\n",
              "      <th>moon_phase</th>\n",
              "      <th>moon_illumination</th>\n",
              "    </tr>\n",
              "  </thead>\n",
              "  <tbody>\n",
              "    <tr>\n",
              "      <th>0</th>\n",
              "      <td>India</td>\n",
              "      <td>Ashoknagar</td>\n",
              "      <td>Madhya Pradesh</td>\n",
              "      <td>24.57</td>\n",
              "      <td>77.72</td>\n",
              "      <td>Asia/Kolkata</td>\n",
              "      <td>1693286100</td>\n",
              "      <td>2023-08-29 10:45</td>\n",
              "      <td>27.5</td>\n",
              "      <td>81.5</td>\n",
              "      <td>...</td>\n",
              "      <td>12.6</td>\n",
              "      <td>18.5</td>\n",
              "      <td>1</td>\n",
              "      <td>2</td>\n",
              "      <td>05:59 AM</td>\n",
              "      <td>06:41 PM</td>\n",
              "      <td>05:42 PM</td>\n",
              "      <td>03:38 AM</td>\n",
              "      <td>Waxing Gibbous</td>\n",
              "      <td>93</td>\n",
              "    </tr>\n",
              "    <tr>\n",
              "      <th>1</th>\n",
              "      <td>India</td>\n",
              "      <td>Raisen</td>\n",
              "      <td>Madhya Pradesh</td>\n",
              "      <td>23.33</td>\n",
              "      <td>77.80</td>\n",
              "      <td>Asia/Kolkata</td>\n",
              "      <td>1693286100</td>\n",
              "      <td>2023-08-29 10:45</td>\n",
              "      <td>27.5</td>\n",
              "      <td>81.5</td>\n",
              "      <td>...</td>\n",
              "      <td>10.7</td>\n",
              "      <td>14.2</td>\n",
              "      <td>1</td>\n",
              "      <td>1</td>\n",
              "      <td>06:00 AM</td>\n",
              "      <td>06:40 PM</td>\n",
              "      <td>05:39 PM</td>\n",
              "      <td>03:41 AM</td>\n",
              "      <td>Waxing Gibbous</td>\n",
              "      <td>93</td>\n",
              "    </tr>\n",
              "    <tr>\n",
              "      <th>2</th>\n",
              "      <td>India</td>\n",
              "      <td>Chhindwara</td>\n",
              "      <td>Madhya Pradesh</td>\n",
              "      <td>22.07</td>\n",
              "      <td>78.93</td>\n",
              "      <td>Asia/Kolkata</td>\n",
              "      <td>1693286100</td>\n",
              "      <td>2023-08-29 10:45</td>\n",
              "      <td>26.3</td>\n",
              "      <td>79.3</td>\n",
              "      <td>...</td>\n",
              "      <td>16.8</td>\n",
              "      <td>20.7</td>\n",
              "      <td>2</td>\n",
              "      <td>2</td>\n",
              "      <td>05:56 AM</td>\n",
              "      <td>06:34 PM</td>\n",
              "      <td>05:32 PM</td>\n",
              "      <td>03:39 AM</td>\n",
              "      <td>Waxing Gibbous</td>\n",
              "      <td>93</td>\n",
              "    </tr>\n",
              "    <tr>\n",
              "      <th>3</th>\n",
              "      <td>India</td>\n",
              "      <td>Betul</td>\n",
              "      <td>Madhya Pradesh</td>\n",
              "      <td>21.86</td>\n",
              "      <td>77.93</td>\n",
              "      <td>Asia/Kolkata</td>\n",
              "      <td>1693286100</td>\n",
              "      <td>2023-08-29 10:45</td>\n",
              "      <td>25.6</td>\n",
              "      <td>78.1</td>\n",
              "      <td>...</td>\n",
              "      <td>4.9</td>\n",
              "      <td>6.6</td>\n",
              "      <td>1</td>\n",
              "      <td>1</td>\n",
              "      <td>06:00 AM</td>\n",
              "      <td>06:38 PM</td>\n",
              "      <td>05:36 PM</td>\n",
              "      <td>03:43 AM</td>\n",
              "      <td>Waxing Gibbous</td>\n",
              "      <td>93</td>\n",
              "    </tr>\n",
              "    <tr>\n",
              "      <th>4</th>\n",
              "      <td>India</td>\n",
              "      <td>Hoshangabad</td>\n",
              "      <td>Madhya Pradesh</td>\n",
              "      <td>22.75</td>\n",
              "      <td>77.72</td>\n",
              "      <td>Asia/Kolkata</td>\n",
              "      <td>1693286100</td>\n",
              "      <td>2023-08-29 10:45</td>\n",
              "      <td>27.2</td>\n",
              "      <td>81.0</td>\n",
              "      <td>...</td>\n",
              "      <td>11.4</td>\n",
              "      <td>14.8</td>\n",
              "      <td>1</td>\n",
              "      <td>1</td>\n",
              "      <td>06:01 AM</td>\n",
              "      <td>06:39 PM</td>\n",
              "      <td>05:38 PM</td>\n",
              "      <td>03:42 AM</td>\n",
              "      <td>Waxing Gibbous</td>\n",
              "      <td>93</td>\n",
              "    </tr>\n",
              "  </tbody>\n",
              "</table>\n",
              "<p>5 rows × 42 columns</p>\n",
              "</div>\n",
              "    <div class=\"colab-df-buttons\">\n",
              "\n",
              "  <div class=\"colab-df-container\">\n",
              "    <button class=\"colab-df-convert\" onclick=\"convertToInteractive('df-03df7a59-b6a5-4a79-9095-abb6baf2e93d')\"\n",
              "            title=\"Convert this dataframe to an interactive table.\"\n",
              "            style=\"display:none;\">\n",
              "\n",
              "  <svg xmlns=\"http://www.w3.org/2000/svg\" height=\"24px\" viewBox=\"0 -960 960 960\">\n",
              "    <path d=\"M120-120v-720h720v720H120Zm60-500h600v-160H180v160Zm220 220h160v-160H400v160Zm0 220h160v-160H400v160ZM180-400h160v-160H180v160Zm440 0h160v-160H620v160ZM180-180h160v-160H180v160Zm440 0h160v-160H620v160Z\"/>\n",
              "  </svg>\n",
              "    </button>\n",
              "\n",
              "  <style>\n",
              "    .colab-df-container {\n",
              "      display:flex;\n",
              "      gap: 12px;\n",
              "    }\n",
              "\n",
              "    .colab-df-convert {\n",
              "      background-color: #E8F0FE;\n",
              "      border: none;\n",
              "      border-radius: 50%;\n",
              "      cursor: pointer;\n",
              "      display: none;\n",
              "      fill: #1967D2;\n",
              "      height: 32px;\n",
              "      padding: 0 0 0 0;\n",
              "      width: 32px;\n",
              "    }\n",
              "\n",
              "    .colab-df-convert:hover {\n",
              "      background-color: #E2EBFA;\n",
              "      box-shadow: 0px 1px 2px rgba(60, 64, 67, 0.3), 0px 1px 3px 1px rgba(60, 64, 67, 0.15);\n",
              "      fill: #174EA6;\n",
              "    }\n",
              "\n",
              "    .colab-df-buttons div {\n",
              "      margin-bottom: 4px;\n",
              "    }\n",
              "\n",
              "    [theme=dark] .colab-df-convert {\n",
              "      background-color: #3B4455;\n",
              "      fill: #D2E3FC;\n",
              "    }\n",
              "\n",
              "    [theme=dark] .colab-df-convert:hover {\n",
              "      background-color: #434B5C;\n",
              "      box-shadow: 0px 1px 3px 1px rgba(0, 0, 0, 0.15);\n",
              "      filter: drop-shadow(0px 1px 2px rgba(0, 0, 0, 0.3));\n",
              "      fill: #FFFFFF;\n",
              "    }\n",
              "  </style>\n",
              "\n",
              "    <script>\n",
              "      const buttonEl =\n",
              "        document.querySelector('#df-03df7a59-b6a5-4a79-9095-abb6baf2e93d button.colab-df-convert');\n",
              "      buttonEl.style.display =\n",
              "        google.colab.kernel.accessAllowed ? 'block' : 'none';\n",
              "\n",
              "      async function convertToInteractive(key) {\n",
              "        const element = document.querySelector('#df-03df7a59-b6a5-4a79-9095-abb6baf2e93d');\n",
              "        const dataTable =\n",
              "          await google.colab.kernel.invokeFunction('convertToInteractive',\n",
              "                                                    [key], {});\n",
              "        if (!dataTable) return;\n",
              "\n",
              "        const docLinkHtml = 'Like what you see? Visit the ' +\n",
              "          '<a target=\"_blank\" href=https://colab.research.google.com/notebooks/data_table.ipynb>data table notebook</a>'\n",
              "          + ' to learn more about interactive tables.';\n",
              "        element.innerHTML = '';\n",
              "        dataTable['output_type'] = 'display_data';\n",
              "        await google.colab.output.renderOutput(dataTable, element);\n",
              "        const docLink = document.createElement('div');\n",
              "        docLink.innerHTML = docLinkHtml;\n",
              "        element.appendChild(docLink);\n",
              "      }\n",
              "    </script>\n",
              "  </div>\n",
              "\n",
              "\n",
              "<div id=\"df-bd4a4268-24bf-4dbe-bba9-f0069611ee13\">\n",
              "  <button class=\"colab-df-quickchart\" onclick=\"quickchart('df-bd4a4268-24bf-4dbe-bba9-f0069611ee13')\"\n",
              "            title=\"Suggest charts\"\n",
              "            style=\"display:none;\">\n",
              "\n",
              "<svg xmlns=\"http://www.w3.org/2000/svg\" height=\"24px\"viewBox=\"0 0 24 24\"\n",
              "     width=\"24px\">\n",
              "    <g>\n",
              "        <path d=\"M19 3H5c-1.1 0-2 .9-2 2v14c0 1.1.9 2 2 2h14c1.1 0 2-.9 2-2V5c0-1.1-.9-2-2-2zM9 17H7v-7h2v7zm4 0h-2V7h2v10zm4 0h-2v-4h2v4z\"/>\n",
              "    </g>\n",
              "</svg>\n",
              "  </button>\n",
              "\n",
              "<style>\n",
              "  .colab-df-quickchart {\n",
              "      --bg-color: #E8F0FE;\n",
              "      --fill-color: #1967D2;\n",
              "      --hover-bg-color: #E2EBFA;\n",
              "      --hover-fill-color: #174EA6;\n",
              "      --disabled-fill-color: #AAA;\n",
              "      --disabled-bg-color: #DDD;\n",
              "  }\n",
              "\n",
              "  [theme=dark] .colab-df-quickchart {\n",
              "      --bg-color: #3B4455;\n",
              "      --fill-color: #D2E3FC;\n",
              "      --hover-bg-color: #434B5C;\n",
              "      --hover-fill-color: #FFFFFF;\n",
              "      --disabled-bg-color: #3B4455;\n",
              "      --disabled-fill-color: #666;\n",
              "  }\n",
              "\n",
              "  .colab-df-quickchart {\n",
              "    background-color: var(--bg-color);\n",
              "    border: none;\n",
              "    border-radius: 50%;\n",
              "    cursor: pointer;\n",
              "    display: none;\n",
              "    fill: var(--fill-color);\n",
              "    height: 32px;\n",
              "    padding: 0;\n",
              "    width: 32px;\n",
              "  }\n",
              "\n",
              "  .colab-df-quickchart:hover {\n",
              "    background-color: var(--hover-bg-color);\n",
              "    box-shadow: 0 1px 2px rgba(60, 64, 67, 0.3), 0 1px 3px 1px rgba(60, 64, 67, 0.15);\n",
              "    fill: var(--button-hover-fill-color);\n",
              "  }\n",
              "\n",
              "  .colab-df-quickchart-complete:disabled,\n",
              "  .colab-df-quickchart-complete:disabled:hover {\n",
              "    background-color: var(--disabled-bg-color);\n",
              "    fill: var(--disabled-fill-color);\n",
              "    box-shadow: none;\n",
              "  }\n",
              "\n",
              "  .colab-df-spinner {\n",
              "    border: 2px solid var(--fill-color);\n",
              "    border-color: transparent;\n",
              "    border-bottom-color: var(--fill-color);\n",
              "    animation:\n",
              "      spin 1s steps(1) infinite;\n",
              "  }\n",
              "\n",
              "  @keyframes spin {\n",
              "    0% {\n",
              "      border-color: transparent;\n",
              "      border-bottom-color: var(--fill-color);\n",
              "      border-left-color: var(--fill-color);\n",
              "    }\n",
              "    20% {\n",
              "      border-color: transparent;\n",
              "      border-left-color: var(--fill-color);\n",
              "      border-top-color: var(--fill-color);\n",
              "    }\n",
              "    30% {\n",
              "      border-color: transparent;\n",
              "      border-left-color: var(--fill-color);\n",
              "      border-top-color: var(--fill-color);\n",
              "      border-right-color: var(--fill-color);\n",
              "    }\n",
              "    40% {\n",
              "      border-color: transparent;\n",
              "      border-right-color: var(--fill-color);\n",
              "      border-top-color: var(--fill-color);\n",
              "    }\n",
              "    60% {\n",
              "      border-color: transparent;\n",
              "      border-right-color: var(--fill-color);\n",
              "    }\n",
              "    80% {\n",
              "      border-color: transparent;\n",
              "      border-right-color: var(--fill-color);\n",
              "      border-bottom-color: var(--fill-color);\n",
              "    }\n",
              "    90% {\n",
              "      border-color: transparent;\n",
              "      border-bottom-color: var(--fill-color);\n",
              "    }\n",
              "  }\n",
              "</style>\n",
              "\n",
              "  <script>\n",
              "    async function quickchart(key) {\n",
              "      const quickchartButtonEl =\n",
              "        document.querySelector('#' + key + ' button');\n",
              "      quickchartButtonEl.disabled = true;  // To prevent multiple clicks.\n",
              "      quickchartButtonEl.classList.add('colab-df-spinner');\n",
              "      try {\n",
              "        const charts = await google.colab.kernel.invokeFunction(\n",
              "            'suggestCharts', [key], {});\n",
              "      } catch (error) {\n",
              "        console.error('Error during call to suggestCharts:', error);\n",
              "      }\n",
              "      quickchartButtonEl.classList.remove('colab-df-spinner');\n",
              "      quickchartButtonEl.classList.add('colab-df-quickchart-complete');\n",
              "    }\n",
              "    (() => {\n",
              "      let quickchartButtonEl =\n",
              "        document.querySelector('#df-bd4a4268-24bf-4dbe-bba9-f0069611ee13 button');\n",
              "      quickchartButtonEl.style.display =\n",
              "        google.colab.kernel.accessAllowed ? 'block' : 'none';\n",
              "    })();\n",
              "  </script>\n",
              "</div>\n",
              "\n",
              "    </div>\n",
              "  </div>\n"
            ],
            "application/vnd.google.colaboratory.intrinsic+json": {
              "type": "dataframe",
              "variable_name": "data"
            }
          },
          "metadata": {},
          "execution_count": 141
        }
      ],
      "source": [
        "import pandas as pd\n",
        "import numpy as np\n",
        "\n",
        "data = pd.read_csv('/content/drive/MyDrive/Colab Notebooks/IndianWeatherRepository.csv')\n",
        "data.head()"
      ]
    },
    {
      "cell_type": "code",
      "source": [
        "from google.colab import drive\n",
        "drive.mount('/content/drive')"
      ],
      "metadata": {
        "colab": {
          "base_uri": "https://localhost:8080/"
        },
        "id": "9wAQ1fHJcP3N",
        "outputId": "caf70105-e97e-4fb6-e584-e25959b967d4"
      },
      "id": "9wAQ1fHJcP3N",
      "execution_count": 142,
      "outputs": [
        {
          "output_type": "stream",
          "name": "stdout",
          "text": [
            "Drive already mounted at /content/drive; to attempt to forcibly remount, call drive.mount(\"/content/drive\", force_remount=True).\n"
          ]
        }
      ]
    },
    {
      "cell_type": "code",
      "execution_count": 143,
      "id": "4db88ab3-8ae4-4377-a077-5f2bc086d931",
      "metadata": {
        "id": "4db88ab3-8ae4-4377-a077-5f2bc086d931"
      },
      "outputs": [],
      "source": [
        "NewData = data.select_dtypes(exclude=['object'])"
      ]
    },
    {
      "cell_type": "code",
      "execution_count": 144,
      "id": "449d35df-339e-43ec-89a9-5519a20b359e",
      "metadata": {
        "colab": {
          "base_uri": "https://localhost:8080/"
        },
        "id": "449d35df-339e-43ec-89a9-5519a20b359e",
        "outputId": "3e7225a8-17be-48c6-a45e-e056bdc3a777"
      },
      "outputs": [
        {
          "output_type": "stream",
          "name": "stdout",
          "text": [
            "<class 'pandas.core.frame.DataFrame'>\n",
            "RangeIndex: 79948 entries, 0 to 79947\n",
            "Data columns (total 30 columns):\n",
            " #   Column                        Non-Null Count  Dtype  \n",
            "---  ------                        --------------  -----  \n",
            " 0   latitude                      79948 non-null  float64\n",
            " 1   longitude                     79948 non-null  float64\n",
            " 2   last_updated_epoch            79948 non-null  int64  \n",
            " 3   temperature_celsius           79948 non-null  float64\n",
            " 4   temperature_fahrenheit        79948 non-null  float64\n",
            " 5   wind_mph                      79948 non-null  float64\n",
            " 6   wind_kph                      79948 non-null  float64\n",
            " 7   wind_degree                   79948 non-null  int64  \n",
            " 8   pressure_mb                   79948 non-null  float64\n",
            " 9   pressure_in                   79948 non-null  float64\n",
            " 10  precip_mm                     79948 non-null  float64\n",
            " 11  precip_in                     79948 non-null  float64\n",
            " 12  humidity                      79948 non-null  int64  \n",
            " 13  cloud                         79948 non-null  int64  \n",
            " 14  feels_like_celsius            79948 non-null  float64\n",
            " 15  feels_like_fahrenheit         79948 non-null  float64\n",
            " 16  visibility_km                 79948 non-null  float64\n",
            " 17  visibility_miles              79948 non-null  float64\n",
            " 18  uv_index                      79948 non-null  float64\n",
            " 19  gust_mph                      79948 non-null  float64\n",
            " 20  gust_kph                      79948 non-null  float64\n",
            " 21  air_quality_Carbon_Monoxide   79948 non-null  float64\n",
            " 22  air_quality_Ozone             79948 non-null  float64\n",
            " 23  air_quality_Nitrogen_dioxide  79948 non-null  float64\n",
            " 24  air_quality_Sulphur_dioxide   79948 non-null  float64\n",
            " 25  air_quality_PM2.5             79948 non-null  float64\n",
            " 26  air_quality_PM10              79948 non-null  float64\n",
            " 27  air_quality_us-epa-index      79948 non-null  int64  \n",
            " 28  air_quality_gb-defra-index    79948 non-null  int64  \n",
            " 29  moon_illumination             79948 non-null  int64  \n",
            "dtypes: float64(23), int64(7)\n",
            "memory usage: 18.3 MB\n"
          ]
        }
      ],
      "source": [
        "NewData.info()"
      ]
    },
    {
      "cell_type": "code",
      "execution_count": 145,
      "id": "c36a5111-cbdd-4a63-ab99-029978aeb3f9",
      "metadata": {
        "colab": {
          "base_uri": "https://localhost:8080/"
        },
        "id": "c36a5111-cbdd-4a63-ab99-029978aeb3f9",
        "outputId": "9e6be463-1a4d-4e7b-b8fb-cbb7141e320e"
      },
      "outputs": [
        {
          "output_type": "stream",
          "name": "stdout",
          "text": [
            "(79948, 8) (79948, 1)\n"
          ]
        }
      ],
      "source": [
        "#X = NewData[[\"latitude\", \"longitude\",'air_quality_Ozone', \"last_updated_epoch\", \"temperature_celsius\", \"temperature_fahrenheit\", \"wind_mph\", \"wind_kph\", \"wind_degree\", \"pressure_mb\", \"pressure_in\", \"precip_mm\", \"precip_in\", \"humidity\", \"cloud\", \"feels_like_celsius\", \"feels_like_fahrenheit\", \"visibility_km\", \"visibility_miles\", \"uv_index\", \"gust_mph\", \"gust_kph\",  \"air_quality_Nitrogen_dioxide\", \"air_quality_Sulphur_dioxide\", \"air_quality_PM2.5\", \"air_quality_PM10\", \"air_quality_us-epa-index\", \"air_quality_gb-defra-index\", \"moon_illumination\", 'uv_index']]\n",
        "#Y = NewData[\"air_quality_Carbon_Monoxide\"]\n",
        "\n",
        "Y = NewData['temperature_celsius']\n",
        "X = NewData[['latitude','longitude','wind_kph','wind_degree','pressure_mb','precip_in','humidity','cloud']]\n",
        "\n",
        "X = np.array(X)\n",
        "Y = np.array(Y)\n",
        "\n",
        "Y = Y.reshape(-1,1)\n",
        "print(X.shape, Y.shape)"
      ]
    },
    {
      "cell_type": "code",
      "execution_count": 146,
      "id": "c1c4f5a0-9479-434d-b263-e5e1a85e0257",
      "metadata": {
        "colab": {
          "base_uri": "https://localhost:8080/"
        },
        "id": "c1c4f5a0-9479-434d-b263-e5e1a85e0257",
        "outputId": "bb3a6066-9b4c-4b8d-e6d5-a66888712bfa"
      },
      "outputs": [
        {
          "output_type": "stream",
          "name": "stdout",
          "text": [
            "[[27.5]\n",
            " [27.5]\n",
            " [26.3]\n",
            " ...\n",
            " [21. ]\n",
            " [28. ]\n",
            " [21.8]]\n"
          ]
        }
      ],
      "source": [
        "print(Y)"
      ]
    },
    {
      "cell_type": "code",
      "execution_count": 147,
      "id": "85542d06-43c8-4b68-ad20-4980a280b548",
      "metadata": {
        "colab": {
          "base_uri": "https://localhost:8080/"
        },
        "id": "85542d06-43c8-4b68-ad20-4980a280b548",
        "outputId": "2efd7c03-eff0-43c0-97a4-be55fc424764"
      },
      "outputs": [
        {
          "output_type": "stream",
          "name": "stdout",
          "text": [
            "[[0.02334971 0.07385997 0.01948185 ... 0.         0.06367238 0.02470869]\n",
            " [0.02213856 0.07382682 0.01470843 ... 0.         0.06642516 0.01802969]\n",
            " [0.02073305 0.07414859 0.01728537 ... 0.         0.06575955 0.04791053]\n",
            " ...\n",
            " [0.01256779 0.07710773 0.00349915 ... 0.         0.08067492 0.00194397]\n",
            " [0.00846568 0.07295395 0.00575704 ... 0.         0.06983948 0.04718884]\n",
            " [0.02142378 0.07243835 0.00595919 ... 0.         0.02344599 0.        ]]\n"
          ]
        }
      ],
      "source": [
        "#Rellenar nulos, normalizar\n",
        "from sklearn.preprocessing import normalize\n",
        "from sklearn.impute import SimpleImputer\n",
        "\n",
        "#imputer = SimpleImputer(strategy = 'mean')\n",
        "#X = imputer.fit_transform(X)\n",
        "\n",
        "X_norm = normalize(X)\n",
        "print(X_norm)"
      ]
    },
    {
      "cell_type": "code",
      "execution_count": 148,
      "id": "851c4159-bd66-4fe9-a0dc-0e5e0632a8d8",
      "metadata": {
        "colab": {
          "base_uri": "https://localhost:8080/"
        },
        "id": "851c4159-bd66-4fe9-a0dc-0e5e0632a8d8",
        "outputId": "59132191-2640-4f6b-c145-003287067fc2"
      },
      "outputs": [
        {
          "output_type": "stream",
          "name": "stdout",
          "text": [
            "(79948, 9)\n"
          ]
        }
      ],
      "source": [
        "#Agregar bias\n",
        "X1 = np.column_stack((np.ones((len(X_norm),1)), X_norm))\n",
        "print(X1.shape)"
      ]
    },
    {
      "cell_type": "code",
      "execution_count": 149,
      "id": "4b604972-f753-48e2-bebf-5829c29b92fe",
      "metadata": {
        "id": "4b604972-f753-48e2-bebf-5829c29b92fe"
      },
      "outputs": [],
      "source": [
        "#Dividir data set en train y test\n",
        "from sklearn.model_selection import train_test_split\n",
        "\n",
        "X_train, X_test, y_train, y_test = train_test_split(X1, Y, test_size = 0.3, random_state = 0)"
      ]
    },
    {
      "cell_type": "code",
      "execution_count": 150,
      "id": "e2904eaa-5183-423c-b000-a791db944eeb",
      "metadata": {
        "colab": {
          "base_uri": "https://localhost:8080/",
          "height": 519
        },
        "id": "e2904eaa-5183-423c-b000-a791db944eeb",
        "outputId": "e0f78685-48e3-48cc-c452-6c9403f2de87"
      },
      "outputs": [
        {
          "output_type": "stream",
          "name": "stdout",
          "text": [
            "[[0.17510205 0.16377792 0.78582788 0.25332482 0.16008477 0.57735301\n",
            "  0.39173894 0.939038   0.87089837]]\n",
            "W: [[9.61676692 0.34093295 1.51136013 0.33529652 1.69933571 9.7732271\n",
            "  0.39181802 1.64649191 1.2377927 ]]\n"
          ]
        },
        {
          "output_type": "execute_result",
          "data": {
            "text/plain": [
              "[<matplotlib.lines.Line2D at 0x799828b51870>]"
            ]
          },
          "metadata": {},
          "execution_count": 150
        },
        {
          "output_type": "display_data",
          "data": {
            "text/plain": [
              "<Figure size 640x480 with 1 Axes>"
            ],
            "image/png": "[encoded data removed]"
          },
          "metadata": {}
        }
      ],
      "source": [
        "#6. Primer algoritmo de Regresion lineal usando GD\n",
        "import matplotlib.pyplot as plt\n",
        "\n",
        "\n",
        "#Initialize W\n",
        "m, n = np.shape(X_train)\n",
        "initw = np.random.rand(1, n)\n",
        "print(initw)\n",
        "\n",
        "\n",
        "#Gradient function\n",
        "def gradient(X, Y, W):\n",
        "    residual = Y - np.dot(X, W.T) #Salida menos predicción\n",
        "    grad = -2 * np.dot(X.T, residual)\n",
        "    return grad\n",
        "\n",
        "\n",
        "#Cost function\n",
        "def mse(Y, Yt):\n",
        "    m = len(Y)\n",
        "    residual = Y - Yt\n",
        "    cost = (1/m) * np.dot(residual.T, residual)\n",
        "    return cost\n",
        "\n",
        "\n",
        "#GD Algorithm\n",
        "def GD(X, Y, W, alpha, iterations):\n",
        "    grad = gradient(X,Y,W)\n",
        "    it = 0\n",
        "    J = []\n",
        "    while it < iterations:\n",
        "        grad = gradient(X, Y, W)\n",
        "        W = W - np.dot(alpha, grad.T)\n",
        "        it += 1\n",
        "        Yt = np.dot(X, W.T)\n",
        "        costo = mse(Y, Yt)\n",
        "        J.append(costo)\n",
        "    return W, it, J\n",
        "\n",
        "\n",
        "#Testing the GD\n",
        "w, iterations, J = GD(X_train, y_train, initw,0.0000001, 200)\n",
        "J = np.array(J)\n",
        "J = J.reshape(-1,1)\n",
        "print('W:',w)\n",
        "plt.plot(J)"
      ]
    },
    {
      "cell_type": "code",
      "execution_count": 151,
      "id": "bb03d3d7-5be1-4a2b-a638-8b557fab0770",
      "metadata": {
        "colab": {
          "base_uri": "https://localhost:8080/"
        },
        "id": "bb03d3d7-5be1-4a2b-a638-8b557fab0770",
        "outputId": "7f7b0e0f-8809-4c66-d148-cd8121e88dd2"
      },
      "outputs": [
        {
          "output_type": "stream",
          "name": "stdout",
          "text": [
            "[0.006215428462353567] [0.007256631931191748]\n"
          ]
        }
      ],
      "source": [
        "#7. Implementar R2 como medición de desempeño\n",
        "from sklearn.metrics import r2_score\n",
        "\n",
        "y_hat_train = np.dot(X_train, w.T)\n",
        "y_hat_test = np.dot(X_test, w.T)\n",
        "\n",
        "R2_train = []\n",
        "R2_test = []\n",
        "\n",
        "r2_train = r2_score(y_train, y_hat_train)\n",
        "r2_test = r2_score(y_test, y_hat_test)\n",
        "\n",
        "R2_train. append (r2_train)\n",
        "R2_test. append(r2_test)\n",
        "\n",
        "print(R2_train, R2_test)"
      ]
    },
    {
      "cell_type": "code",
      "execution_count": 152,
      "id": "58653dcb-01eb-483c-bbee-02950892a3b4",
      "metadata": {
        "colab": {
          "base_uri": "https://localhost:8080/"
        },
        "id": "58653dcb-01eb-483c-bbee-02950892a3b4",
        "outputId": "57f01f94-1f90-4fdb-8d8d-fd2327fcc719"
      },
      "outputs": [
        {
          "output_type": "stream",
          "name": "stdout",
          "text": [
            "R2_training: 0.2852559196110802\n",
            "R2_test: 0.2859972313411543\n"
          ]
        }
      ],
      "source": [
        "#8. Segundo algoritmo de Regresion Lineal usando Librerias\n",
        "\n",
        "from sklearn.linear_model import LinearRegression\n",
        "\n",
        "reg = LinearRegression().fit(X_train, y_train)\n",
        "costTr = reg.score(X_train, y_train)\n",
        "costTe = reg.score(X_test, y_test)\n",
        "\n",
        "print('R2_training:', costTr)\n",
        "print('R2_test:', costTe)"
      ]
    },
    {
      "cell_type": "code",
      "execution_count": 153,
      "id": "05469f78-f370-42f7-907c-48a0d04009ae",
      "metadata": {
        "colab": {
          "base_uri": "https://localhost:8080/"
        },
        "id": "05469f78-f370-42f7-907c-48a0d04009ae",
        "outputId": "f4397a92-44d3-4d56-ef60-7e0e855e0640"
      },
      "outputs": [
        {
          "output_type": "stream",
          "name": "stdout",
          "text": [
            "[0.006215428462353567, 0.2852559196110802] [0.007256631931191748, 0.2859972313411543]\n"
          ]
        }
      ],
      "source": [
        "#9. Guardar socores en mi lista\n",
        "R2_train.append(costTr)\n",
        "R2_test.append(costTe)\n",
        "\n",
        "print(R2_train, R2_test)"
      ]
    },
    {
      "cell_type": "code",
      "execution_count": 154,
      "id": "a35061a0-8289-487c-897d-6f9c0796b52e",
      "metadata": {
        "id": "a35061a0-8289-487c-897d-6f9c0796b52e"
      },
      "outputs": [],
      "source": [
        "#10. Tercer algoritmo usando Decision Trees para Regresion\n",
        "from sklearn.tree import DecisionTreeRegressor\n",
        "\n",
        "dtreg = DecisionTreeRegressor()\n",
        "DT_reg = dtreg.fit(X_train, y_train)"
      ]
    },
    {
      "cell_type": "code",
      "execution_count": 155,
      "id": "9b3c3111-8e48-49f8-aef1-a684bcd93ab5",
      "metadata": {
        "colab": {
          "base_uri": "https://localhost:8080/"
        },
        "id": "9b3c3111-8e48-49f8-aef1-a684bcd93ab5",
        "outputId": "800d275e-29ba-4ff2-e283-a418eb993fa9"
      },
      "outputs": [
        {
          "output_type": "stream",
          "name": "stdout",
          "text": [
            "[0.006215428462353567, 0.2852559196110802, 0.9994130576253389] [0.007256631931191748, 0.2859972313411543, 0.6551391076238975]\n"
          ]
        }
      ],
      "source": [
        "#11. Obtener R2 del DT\n",
        "costDT_tr = DT_reg.score(X_train, y_train)\n",
        "costDT_te = DT_reg.score(X_test, y_test)\n",
        "\n",
        "R2_train.append(costDT_tr)\n",
        "R2_test.append(costDT_te)\n",
        "\n",
        "print(R2_train, R2_test)"
      ]
    },
    {
      "cell_type": "code",
      "execution_count": 156,
      "id": "62d2725e-f827-42c4-a0b9-f9f25a2f23b7",
      "metadata": {
        "colab": {
          "base_uri": "https://localhost:8080/",
          "height": 641
        },
        "id": "62d2725e-f827-42c4-a0b9-f9f25a2f23b7",
        "outputId": "a19aa6ee-7d6b-4283-dcae-d4b74e50c340"
      },
      "outputs": [
        {
          "output_type": "execute_result",
          "data": {
            "text/plain": [
              "<function matplotlib.pyplot.show(close=None, block=None)>"
            ],
            "text/html": [
              "<div style=\"max-width:800px; border: 1px solid var(--colab-border-color);\"><style>\n",
              "      pre.function-repr-contents {\n",
              "        overflow-x: auto;\n",
              "        padding: 8px 12px;\n",
              "        max-height: 500px;\n",
              "      }\n",
              "\n",
              "      pre.function-repr-contents.function-repr-contents-collapsed {\n",
              "        cursor: pointer;\n",
              "        max-height: 100px;\n",
              "      }\n",
              "    </style>\n",
              "    <pre style=\"white-space: initial; background:\n",
              "         var(--colab-secondary-surface-color); padding: 8px 12px;\n",
              "         border-bottom: 1px solid var(--colab-border-color);\"><b>matplotlib.pyplot.show</b><br/>def show(*args, **kwargs)</pre><pre class=\"function-repr-contents function-repr-contents-collapsed\" style=\"\"><a class=\"filepath\" style=\"display:none\" href=\"#\">/usr/local/lib/python3.10/dist-packages/matplotlib/pyplot.py</a>Display all open figures.\n",
              "\n",
              "Parameters\n",
              "----------\n",
              "block : bool, optional\n",
              "    Whether to wait for all figures to be closed before returning.\n",
              "\n",
              "    If `True` block and run the GUI main loop until all figure windows\n",
              "    are closed.\n",
              "\n",
              "    If `False` ensure that all figure windows are displayed and return\n",
              "    immediately.  In this case, you are responsible for ensuring\n",
              "    that the event loop is running to have responsive figures.\n",
              "\n",
              "    Defaults to True in non-interactive mode and to False in interactive\n",
              "    mode (see `.pyplot.isinteractive`).\n",
              "\n",
              "See Also\n",
              "--------\n",
              "ion : Enable interactive mode, which shows / updates the figure after\n",
              "      every plotting command, so that calling ``show()`` is not necessary.\n",
              "ioff : Disable interactive mode.\n",
              "savefig : Save the figure to an image file instead of showing it on screen.\n",
              "\n",
              "Notes\n",
              "-----\n",
              "**Saving figures to file and showing a window at the same time**\n",
              "\n",
              "If you want an image file as well as a user interface window, use\n",
              "`.pyplot.savefig` before `.pyplot.show`. At the end of (a blocking)\n",
              "``show()`` the figure is closed and thus unregistered from pyplot. Calling\n",
              "`.pyplot.savefig` afterwards would save a new and thus empty figure. This\n",
              "limitation of command order does not apply if the show is non-blocking or\n",
              "if you keep a reference to the figure and use `.Figure.savefig`.\n",
              "\n",
              "**Auto-show in jupyter notebooks**\n",
              "\n",
              "The jupyter backends (activated via ``%matplotlib inline``,\n",
              "``%matplotlib notebook``, or ``%matplotlib widget``), call ``show()`` at\n",
              "the end of every cell by default. Thus, you usually don&#x27;t have to call it\n",
              "explicitly there.</pre>\n",
              "      <script>\n",
              "      if (google.colab.kernel.accessAllowed && google.colab.files && google.colab.files.view) {\n",
              "        for (const element of document.querySelectorAll('.filepath')) {\n",
              "          element.style.display = 'block'\n",
              "          element.onclick = (event) => {\n",
              "            event.preventDefault();\n",
              "            event.stopPropagation();\n",
              "            google.colab.files.view(element.textContent, 401);\n",
              "          };\n",
              "        }\n",
              "      }\n",
              "      for (const element of document.querySelectorAll('.function-repr-contents')) {\n",
              "        element.onclick = (event) => {\n",
              "          event.preventDefault();\n",
              "          event.stopPropagation();\n",
              "          element.classList.toggle('function-repr-contents-collapsed');\n",
              "        };\n",
              "      }\n",
              "      </script>\n",
              "      </div>"
            ]
          },
          "metadata": {},
          "execution_count": 156
        },
        {
          "output_type": "display_data",
          "data": {
            "text/plain": [
              "<Figure size 640x480 with 1 Axes>"
            ],
            "image/png": "[encoded data removed]"
          },
          "metadata": {}
        }
      ],
      "source": [
        "#12. Comparando resultados\n",
        "XX = ['LR-GD', 'LR-Sklearn', 'LR-DT']\n",
        "X_axis = np.arange(len(XX))\n",
        "#print(X_axis)\n",
        "\n",
        "plt.bar(X_axis-0.2, R2_train, 0.4, label = 'Train', color = 'pink')\n",
        "plt.bar(X_axis+0.2, R2_test, 0.4, label = 'Test', color = 'red')\n",
        "\n",
        "plt.xticks(X_axis, XX)\n",
        "plt.xlabel('Algorithms')\n",
        "plt.ylabel('R2')\n",
        "plt.title('R2_score')\n",
        "plt.legend()\n",
        "plt.show"
      ]
    },
    {
      "cell_type": "code",
      "source": [
        "#lIBRERIAS\n",
        "\n",
        "#Libraries\n",
        "import pandas as pd\n",
        "import numpy as np\n",
        "import time\n",
        "import matplotlib.pyplot as plt\n",
        "import matplotlib.image as mpimg\n",
        "from sklearn.model_selection import train_test_split\n",
        "from sklearn.model_selection import KFold\n",
        "from sklearn.preprocessing import StandardScaler\n",
        "from sklearn.decomposition import PCA\n",
        "import os\n",
        "%matplotlib inline\n",
        "\n",
        "from sklearn import model_selection\n",
        "from keras.models import Sequential\n",
        "from keras.layers import Dense\n",
        "#from keras.utils import np_utils\n",
        "from sklearn.preprocessing import LabelEncoder\n",
        "from keras.utils import to_categorical\n",
        "from sklearn.utils import shuffle"
      ],
      "metadata": {
        "id": "ZdKLdvwsdXrV"
      },
      "id": "ZdKLdvwsdXrV",
      "execution_count": 157,
      "outputs": []
    },
    {
      "cell_type": "code",
      "source": [
        "#1. Load dataset\n",
        "weather_data_path = os.path.join('/content/drive/MyDrive/Colab Notebooks/', 'IndianWeatherRepository.csv')\n",
        "\n",
        "df = pd.read_csv(weather_data_path)\n",
        "NewData = np.array(df)\n",
        "#x = NewData[:, 0:-1]\n",
        "#y = NewData[:, -1]\n",
        "\n",
        "#print('x:', np.shape(x))\n",
        "#print('y:', np.shape(y))\n",
        "\n",
        "Y = df['temperature_celsius']\n",
        "X = df[['latitude','longitude','wind_kph','wind_degree','pressure_mb','precip_in','humidity','cloud']]\n",
        "\n",
        "X = np.array(X)\n",
        "Y = np.array(Y)\n",
        "\n",
        "Y = Y.reshape(-1,1)\n",
        "print(X.shape, Y.shape)"
      ],
      "metadata": {
        "colab": {
          "base_uri": "https://localhost:8080/"
        },
        "id": "ScOc0UBhf3_b",
        "outputId": "7143de1b-f923-4734-865a-91c6a5abfa9b"
      },
      "id": "ScOc0UBhf3_b",
      "execution_count": 158,
      "outputs": [
        {
          "output_type": "stream",
          "name": "stdout",
          "text": [
            "(79948, 8) (79948, 1)\n"
          ]
        }
      ]
    },
    {
      "cell_type": "code",
      "source": [
        "m, n = X_train.shape\n",
        "\n",
        "model = Sequential()\n",
        "\n",
        "model.add(Dense(100, input_dim = n, activation = 'relu'))\n",
        "model.add(Dense(800, activation = 'relu'))\n",
        "model.add(Dense(600, activation = 'relu'))\n",
        "model.add(Dense(400, activation = 'relu'))\n",
        "model.add(Dense(1))\n",
        "\n",
        "model.compile(loss = 'mean_squared_error', optimizer = 'adam')"
      ],
      "metadata": {
        "id": "sNWHzfj5gCgR"
      },
      "id": "sNWHzfj5gCgR",
      "execution_count": 159,
      "outputs": []
    },
    {
      "cell_type": "code",
      "source": [
        "model.fit(X_train, y_train, epochs = 10, batch_size = 1000)"
      ],
      "metadata": {
        "colab": {
          "base_uri": "https://localhost:8080/"
        },
        "id": "jzWLE7CVgeNw",
        "outputId": "2ddf03f2-a87d-4637-e379-68e7be2fb50e"
      },
      "id": "jzWLE7CVgeNw",
      "execution_count": 160,
      "outputs": [
        {
          "output_type": "stream",
          "name": "stdout",
          "text": [
            "Epoch 1/10\n",
            "56/56 [==============================] - 6s 90ms/step - loss: 95.4935\n",
            "Epoch 2/10\n",
            "56/56 [==============================] - 7s 123ms/step - loss: 35.8937\n",
            "Epoch 3/10\n",
            "56/56 [==============================] - 5s 90ms/step - loss: 34.8636\n",
            "Epoch 4/10\n",
            "56/56 [==============================] - 6s 104ms/step - loss: 33.7190\n",
            "Epoch 5/10\n",
            "56/56 [==============================] - 6s 106ms/step - loss: 32.4388\n",
            "Epoch 6/10\n",
            "56/56 [==============================] - 5s 90ms/step - loss: 31.2503\n",
            "Epoch 7/10\n",
            "56/56 [==============================] - 7s 121ms/step - loss: 30.5491\n",
            "Epoch 8/10\n",
            "56/56 [==============================] - 5s 91ms/step - loss: 29.8756\n",
            "Epoch 9/10\n",
            "56/56 [==============================] - 6s 101ms/step - loss: 28.9972\n",
            "Epoch 10/10\n",
            "56/56 [==============================] - 7s 124ms/step - loss: 27.9887\n"
          ]
        },
        {
          "output_type": "execute_result",
          "data": {
            "text/plain": [
              "<keras.src.callbacks.History at 0x79982696d630>"
            ]
          },
          "metadata": {},
          "execution_count": 160
        }
      ]
    },
    {
      "cell_type": "code",
      "source": [
        "y_pred = model.predict(X_train)\n",
        "y_pred_test = model.predict(X_test)"
      ],
      "metadata": {
        "colab": {
          "base_uri": "https://localhost:8080/"
        },
        "id": "7m3AN2oMWReM",
        "outputId": "7ae96e50-68bd-44e0-9df1-f6d28c93578f"
      },
      "id": "7m3AN2oMWReM",
      "execution_count": 161,
      "outputs": [
        {
          "output_type": "stream",
          "name": "stdout",
          "text": [
            "1749/1749 [==============================] - 6s 3ms/step\n",
            "750/750 [==============================] - 3s 4ms/step\n"
          ]
        }
      ]
    },
    {
      "cell_type": "code",
      "source": [
        "#7. Implementar R2 como medición de desempeño\n",
        "from sklearn.metrics import r2_score\n",
        "\n",
        "y_hat_train = np.dot(X_train, w.T)\n",
        "y_hat_test = np.dot(X_test, w.T)\n",
        "\n",
        "\n",
        "r2_train = r2_score(y_train, y_pred)\n",
        "r2_test = r2_score(y_test, y_pred_test)\n",
        "\n",
        "R2_train. append (r2_train)\n",
        "R2_test. append(r2_test)\n",
        "\n",
        "print(R2_train, R2_test)"
      ],
      "metadata": {
        "colab": {
          "base_uri": "https://localhost:8080/"
        },
        "id": "_PZn4OCHn-60",
        "outputId": "cec780ca-d101-4032-f4d0-12d169f32b92"
      },
      "id": "_PZn4OCHn-60",
      "execution_count": 162,
      "outputs": [
        {
          "output_type": "stream",
          "name": "stdout",
          "text": [
            "[0.006215428462353567, 0.2852559196110802, 0.9994130576253389, 0.24658736412184035] [0.007256631931191748, 0.2859972313411543, 0.6551391076238975, 0.2464709108730282]\n"
          ]
        }
      ]
    },
    {
      "cell_type": "code",
      "source": [
        "scores = model.evaluate(X_test, y_test)\n",
        "print(\"\\n%s: %.2f%%\" % (model.metrics_names[0], scores))"
      ],
      "metadata": {
        "colab": {
          "base_uri": "https://localhost:8080/"
        },
        "id": "kYqEDIaKmRhl",
        "outputId": "e9b255c5-0b69-487c-94fe-7d616fa64e72"
      },
      "id": "kYqEDIaKmRhl",
      "execution_count": 163,
      "outputs": [
        {
          "output_type": "stream",
          "name": "stdout",
          "text": [
            "750/750 [==============================] - 3s 4ms/step - loss: 27.3254\n",
            "\n",
            "loss: 27.33%\n"
          ]
        }
      ]
    },
    {
      "cell_type": "code",
      "source": [
        "#12. Comparando resultados\n",
        "XX = ['LR-GD', 'LR-Sklearn', 'LR-DT', 'keras']\n",
        "X_axis = np.arange(len(XX))\n",
        "#print(X_axis)\n",
        "\n",
        "plt.bar(X_axis-0.2, R2_train, 0.4, label = 'Train', color = 'pink')\n",
        "plt.bar(X_axis+0.2, R2_test, 0.4, label = 'Test', color = 'red')\n",
        "\n",
        "plt.xticks(X_axis, XX)\n",
        "plt.xlabel('Algorithms')\n",
        "plt.ylabel('R2')\n",
        "plt.title('R2_score')\n",
        "plt.legend()\n",
        "plt.show"
      ],
      "metadata": {
        "colab": {
          "base_uri": "https://localhost:8080/",
          "height": 641
        },
        "id": "A403sQ8CoyeQ",
        "outputId": "11f3770f-13d1-40ef-f55f-cee3948ab91a"
      },
      "id": "A403sQ8CoyeQ",
      "execution_count": 164,
      "outputs": [
        {
          "output_type": "execute_result",
          "data": {
            "text/plain": [
              "<function matplotlib.pyplot.show(close=None, block=None)>"
            ],
            "text/html": [
              "<div style=\"max-width:800px; border: 1px solid var(--colab-border-color);\"><style>\n",
              "      pre.function-repr-contents {\n",
              "        overflow-x: auto;\n",
              "        padding: 8px 12px;\n",
              "        max-height: 500px;\n",
              "      }\n",
              "\n",
              "      pre.function-repr-contents.function-repr-contents-collapsed {\n",
              "        cursor: pointer;\n",
              "        max-height: 100px;\n",
              "      }\n",
              "    </style>\n",
              "    <pre style=\"white-space: initial; background:\n",
              "         var(--colab-secondary-surface-color); padding: 8px 12px;\n",
              "         border-bottom: 1px solid var(--colab-border-color);\"><b>matplotlib.pyplot.show</b><br/>def show(*args, **kwargs)</pre><pre class=\"function-repr-contents function-repr-contents-collapsed\" style=\"\"><a class=\"filepath\" style=\"display:none\" href=\"#\">/usr/local/lib/python3.10/dist-packages/matplotlib/pyplot.py</a>Display all open figures.\n",
              "\n",
              "Parameters\n",
              "----------\n",
              "block : bool, optional\n",
              "    Whether to wait for all figures to be closed before returning.\n",
              "\n",
              "    If `True` block and run the GUI main loop until all figure windows\n",
              "    are closed.\n",
              "\n",
              "    If `False` ensure that all figure windows are displayed and return\n",
              "    immediately.  In this case, you are responsible for ensuring\n",
              "    that the event loop is running to have responsive figures.\n",
              "\n",
              "    Defaults to True in non-interactive mode and to False in interactive\n",
              "    mode (see `.pyplot.isinteractive`).\n",
              "\n",
              "See Also\n",
              "--------\n",
              "ion : Enable interactive mode, which shows / updates the figure after\n",
              "      every plotting command, so that calling ``show()`` is not necessary.\n",
              "ioff : Disable interactive mode.\n",
              "savefig : Save the figure to an image file instead of showing it on screen.\n",
              "\n",
              "Notes\n",
              "-----\n",
              "**Saving figures to file and showing a window at the same time**\n",
              "\n",
              "If you want an image file as well as a user interface window, use\n",
              "`.pyplot.savefig` before `.pyplot.show`. At the end of (a blocking)\n",
              "``show()`` the figure is closed and thus unregistered from pyplot. Calling\n",
              "`.pyplot.savefig` afterwards would save a new and thus empty figure. This\n",
              "limitation of command order does not apply if the show is non-blocking or\n",
              "if you keep a reference to the figure and use `.Figure.savefig`.\n",
              "\n",
              "**Auto-show in jupyter notebooks**\n",
              "\n",
              "The jupyter backends (activated via ``%matplotlib inline``,\n",
              "``%matplotlib notebook``, or ``%matplotlib widget``), call ``show()`` at\n",
              "the end of every cell by default. Thus, you usually don&#x27;t have to call it\n",
              "explicitly there.</pre>\n",
              "      <script>\n",
              "      if (google.colab.kernel.accessAllowed && google.colab.files && google.colab.files.view) {\n",
              "        for (const element of document.querySelectorAll('.filepath')) {\n",
              "          element.style.display = 'block'\n",
              "          element.onclick = (event) => {\n",
              "            event.preventDefault();\n",
              "            event.stopPropagation();\n",
              "            google.colab.files.view(element.textContent, 401);\n",
              "          };\n",
              "        }\n",
              "      }\n",
              "      for (const element of document.querySelectorAll('.function-repr-contents')) {\n",
              "        element.onclick = (event) => {\n",
              "          event.preventDefault();\n",
              "          event.stopPropagation();\n",
              "          element.classList.toggle('function-repr-contents-collapsed');\n",
              "        };\n",
              "      }\n",
              "      </script>\n",
              "      </div>"
            ]
          },
          "metadata": {},
          "execution_count": 164
        },
        {
          "output_type": "display_data",
          "data": {
            "text/plain": [
              "<Figure size 640x480 with 1 Axes>"
            ],
            "image/png": "[encoded data removed]"
          },
          "metadata": {}
        }
      ]
    }
  ],
  "metadata": {
    "kernelspec": {
      "display_name": "Python 3 (ipykernel)",
      "language": "python",
      "name": "python3"
    },
    "language_info": {
      "codemirror_mode": {
        "name": "ipython",
        "version": 3
      },
      "file_extension": ".py",
      "mimetype": "text/x-python",
      "name": "python",
      "nbconvert_exporter": "python",
      "pygments_lexer": "ipython3",
      "version": "3.11.5"
    },
    "colab": {
      "provenance": []
    }
  },
  "nbformat": 4,
  "nbformat_minor": 5
}